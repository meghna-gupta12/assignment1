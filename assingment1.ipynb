{
 "cells": [
  {
   "cell_type": "code",
   "execution_count": 18,
   "id": "33d3f777-d715-4019-9950-27ec17f230d1",
   "metadata": {},
   "outputs": [],
   "source": [
    "\n",
    "\"\"\"1. Declare two variables, `x` and `y`, and assign them integer values. Swap the\n",
    "values of these variables without using any temporary variable.\"\"\"\n",
    "# Ans1\n",
    "x=10"
   ]
  },
  {
   "cell_type": "code",
   "execution_count": 19,
   "id": "21926df0-0463-43b7-bf07-01e6da5fab0f",
   "metadata": {},
   "outputs": [],
   "source": [
    "y=12"
   ]
  },
  {
   "cell_type": "code",
   "execution_count": 20,
   "id": "b10e325c-e344-4e23-85f8-ad775a4595ba",
   "metadata": {},
   "outputs": [],
   "source": [
    "x=y"
   ]
  },
  {
   "cell_type": "code",
   "execution_count": 21,
   "id": "d035c48d-1c4b-4a2f-86f3-428805cb99a4",
   "metadata": {},
   "outputs": [],
   "source": [
    "y=x"
   ]
  },
  {
   "cell_type": "code",
   "execution_count": 22,
   "id": "a4c39171-7e4d-42ce-bca3-05bd99e2c3bb",
   "metadata": {},
   "outputs": [
    {
     "data": {
      "text/plain": [
       "12"
      ]
     },
     "execution_count": 22,
     "metadata": {},
     "output_type": "execute_result"
    }
   ],
   "source": [
    "x"
   ]
  },
  {
   "cell_type": "code",
   "execution_count": 23,
   "id": "840ba6ae-358b-420f-9d4d-3aa4480565e5",
   "metadata": {},
   "outputs": [
    {
     "data": {
      "text/plain": [
       "12"
      ]
     },
     "execution_count": 23,
     "metadata": {},
     "output_type": "execute_result"
    }
   ],
   "source": [
    "y"
   ]
  },
  {
   "cell_type": "code",
   "execution_count": 24,
   "id": "aec80048-04f0-4680-a084-200218734aa5",
   "metadata": {},
   "outputs": [
    {
     "name": "stdin",
     "output_type": "stream",
     "text": [
      " 67\n"
     ]
    }
   ],
   "source": [
    "\"\"\"2. Create a program that calculates the area of a rectangle. Take the length and\n",
    "width as inputs from the user and store them in variables. Calculate and\n",
    "display the area.\"\"\"\n",
    "# Ans2\n",
    "lenght=int(input())"
   ]
  },
  {
   "cell_type": "code",
   "execution_count": 25,
   "id": "f91ded64-b956-4dd4-ae5c-149c1baf9c17",
   "metadata": {},
   "outputs": [
    {
     "name": "stdin",
     "output_type": "stream",
     "text": [
      " 5\n"
     ]
    }
   ],
   "source": [
    "breadth=int(input())"
   ]
  },
  {
   "cell_type": "code",
   "execution_count": 26,
   "id": "3646398b-0eb3-483c-b8ca-630279b1d62b",
   "metadata": {},
   "outputs": [
    {
     "name": "stdout",
     "output_type": "stream",
     "text": [
      "the area of the rectangle 335\n"
     ]
    }
   ],
   "source": [
    "area=lenght*breadth\n",
    "print(\"the area of the rectangle\",area)"
   ]
  },
  {
   "cell_type": "code",
   "execution_count": 27,
   "id": "efac89cb-c312-4c0e-9396-e7f9fdb5e873",
   "metadata": {},
   "outputs": [
    {
     "name": "stdout",
     "output_type": "stream",
     "text": [
      "enter the temperature in celsius\n"
     ]
    },
    {
     "name": "stdin",
     "output_type": "stream",
     "text": [
      " 55.0\n"
     ]
    }
   ],
   "source": [
    "\"\"\"3. Write a Python program that converts temperatures from Celsius to\n",
    "Fahrenheit. Take the temperature in Celsius as input, store it in a variable,\n",
    "convert it to Fahrenheit, and display the result.\"\"\"\n",
    "#Ans\n",
    "print(\"enter the temperature in celsius\")\n",
    "temp=float(input())"
   ]
  },
  {
   "cell_type": "code",
   "execution_count": 29,
   "id": "4b7dfc2d-96e7-451d-a71e-32d12a4c7fb3",
   "metadata": {},
   "outputs": [
    {
     "name": "stdout",
     "output_type": "stream",
     "text": [
      "temperature in fahrenheit is 131.0\n"
     ]
    }
   ],
   "source": [
    "fahrenheit=(temp*9/5)+32\n",
    "print(\"temperature in fahrenheit is\",fahrenheit)"
   ]
  },
  {
   "cell_type": "code",
   "execution_count": 32,
   "id": "7420dce9-8ee3-42fc-a406-e9e2e74711bf",
   "metadata": {},
   "outputs": [
    {
     "name": "stdin",
     "output_type": "stream",
     "text": [
      " meghna\n"
     ]
    },
    {
     "name": "stdout",
     "output_type": "stream",
     "text": [
      "6\n"
     ]
    }
   ],
   "source": [
    "\"\"\"1. Write a Python program that takes a string as input and prints the length of\n",
    "the string.\"\"\"\n",
    "#Ans\n",
    "s1=input()\n",
    "s2=len(s1)\n",
    "print(s2)"
   ]
  },
  {
   "cell_type": "code",
   "execution_count": 33,
   "id": "3258d96e-ad29-4f84-aee4-fbf463a17bb2",
   "metadata": {},
   "outputs": [
    {
     "name": "stdin",
     "output_type": "stream",
     "text": [
      " my name is meghna gupta\n"
     ]
    },
    {
     "name": "stdout",
     "output_type": "stream",
     "text": [
      "7\n"
     ]
    }
   ],
   "source": [
    "\"\"\"2. Create a program that takes a sentence from the user and counts the number\n",
    "of vowels (a, e, i, o, u) in the string.\"\"\"\n",
    "#Ans\n",
    "s2=input()\n",
    "vowels=\"aeiouAEIOU\"\n",
    "s3=sum(s2.count(vowel)for vowel in vowels)\n",
    "print(s3)\n"
   ]
  },
  {
   "cell_type": "code",
   "execution_count": 38,
   "id": "c08e2536-b02d-4bd7-90fa-8426586fef4f",
   "metadata": {},
   "outputs": [
    {
     "data": {
      "text/plain": [
       "'atpuGanhgeM'"
      ]
     },
     "execution_count": 38,
     "metadata": {},
     "output_type": "execute_result"
    }
   ],
   "source": [
    "\"\"\"3. Given a string, reverse the order of characters using string slicing and print\n",
    "the reversed string.\"\"\"\n",
    "#Ans\n",
    "s4=\"MeghnaGupta\"\n",
    "s5=s4[::-1]\n",
    "s5"
   ]
  },
  {
   "cell_type": "code",
   "execution_count": 44,
   "id": "6d3dc0ff-28f3-49b5-894a-bbd3ed1170c1",
   "metadata": {},
   "outputs": [
    {
     "name": "stdin",
     "output_type": "stream",
     "text": [
      " nest\n"
     ]
    },
    {
     "name": "stdout",
     "output_type": "stream",
     "text": [
      "it is not a palindrome\n"
     ]
    }
   ],
   "source": [
    "\"\"\"4. Write a program that takes a string as input and checks if it is a palindrome\n",
    "(reads the same forwards and backwards).\"\"\"\n",
    "#Ans\n",
    "s6=input()\n",
    "s7=s6[::-1]\n",
    "if(s6==s7):\n",
    "    print(\"its is a palindrome string\")\n",
    "else:\n",
    "    print(\"it is not a palindrome\")"
   ]
  },
  {
   "cell_type": "code",
   "execution_count": null,
   "id": "b34c9415-a9b4-4517-8f0f-aee79a9c098e",
   "metadata": {},
   "outputs": [],
   "source": [
    "\"\"\"5. Create a program that takes a string as input and removes all the spaces from\n",
    "it. Print the modified string without spaces.\"\"\"\n",
    "#Ans\n",
    "s8=input()\n"
   ]
  }
 ],
 "metadata": {
  "kernelspec": {
   "display_name": "Python 3 (ipykernel)",
   "language": "python",
   "name": "python3"
  },
  "language_info": {
   "codemirror_mode": {
    "name": "ipython",
    "version": 3
   },
   "file_extension": ".py",
   "mimetype": "text/x-python",
   "name": "python",
   "nbconvert_exporter": "python",
   "pygments_lexer": "ipython3",
   "version": "3.10.8"
  }
 },
 "nbformat": 4,
 "nbformat_minor": 5
}
